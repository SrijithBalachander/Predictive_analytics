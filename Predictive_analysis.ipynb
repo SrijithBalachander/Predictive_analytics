{
 "cells": [
  {
   "cell_type": "code",
   "execution_count": 1,
   "metadata": {},
   "outputs": [],
   "source": [
    "import numpy as np\n",
    "import pandas as pd\n",
    "import random\n",
    "from scipy.optimize import minimize\n",
    "from sklearn.model_selection import train_test_split\n",
    "import matplotlib.pyplot as plt\n",
    "from matplotlib.colors import ListedColormap\n",
    "from sklearn import svm\n",
    "from sklearn.linear_model import LogisticRegression\n",
    "#from sklearn.tree import DecisionTreeRegressor\n",
    "from sklearn import tree, metrics\n",
    "from sklearn.neighbors import KNeighborsClassifier\n",
    "from sklearn.datasets import make_blobs, make_classification, make_moons, make_circles\n",
    "from sklearn.metrics import accuracy_score,make_scorer\n",
    "from sklearn.ensemble import VotingClassifier\n",
    "from sklearn import preprocessing\n",
    "from sklearn.preprocessing import normalize\n",
    "from sklearn.preprocessing import StandardScaler\n",
    "from sklearn.model_selection import GridSearchCV\n",
    "# from sklearn.metrics import plot_confusion_matrix\n",
    "import time"
   ]
  },
  {
   "cell_type": "code",
   "execution_count": 2,
   "metadata": {},
   "outputs": [
    {
     "data": {
      "text/plain": [
       "(40956, 49)"
      ]
     },
     "execution_count": 2,
     "metadata": {},
     "output_type": "execute_result"
    }
   ],
   "source": [
    "data=pd.read_csv('data.csv')\n",
    "data.shape"
   ]
  },
  {
   "cell_type": "code",
   "execution_count": 3,
   "metadata": {},
   "outputs": [],
   "source": [
    "df_x = data[data.columns[0:-1]]\n",
    "# print(df_x)\n",
    "df_x = df_x.to_numpy()\n",
    "# print(df_x)\n",
    "scaler = preprocessing.MinMaxScaler()\n",
    "df_x_norm = scaler.fit_transform(df_x)\n",
    "# df_x_norm = normalize(df_x, norm='max')\n",
    "# df_x_norm"
   ]
  },
  {
   "cell_type": "code",
   "execution_count": 4,
   "metadata": {},
   "outputs": [],
   "source": [
    "df_y = data[data.columns[-1]]\n",
    "df_y = df_y.to_numpy()\n",
    "# df_y"
   ]
  },
  {
   "cell_type": "code",
   "execution_count": 5,
   "metadata": {},
   "outputs": [],
   "source": [
    "X_train, X_test, y_train, y_test = train_test_split(df_x_norm, df_y, test_size=0.20)\n",
    "#X_train = np.concatenate((np.ones((X_train.shape[0],1)), X_train), axis=1)\n",
    "#X_test = np.concatenate((np.ones((X_test.shape[0],1)), X_test), axis=1)\n"
   ]
  },
  {
   "cell_type": "code",
   "execution_count": 6,
   "metadata": {},
   "outputs": [
    {
     "data": {
      "text/plain": [
       "array([ 4,  4,  2, ...,  4,  4, 11], dtype=int64)"
      ]
     },
     "execution_count": 6,
     "metadata": {},
     "output_type": "execute_result"
    }
   ],
   "source": [
    "y_test"
   ]
  },
  {
   "cell_type": "code",
   "execution_count": 46,
   "metadata": {},
   "outputs": [],
   "source": [
    "def Accuracy(y_true,y_pred):\n",
    "    count =0\n",
    "    for i in range(0,y_pred.shape[0]):\n",
    "        if y_true[i] == y_pred[i]:\n",
    "                count+=1\n",
    "    acc = count*100/y_pred.shape[0]\n",
    "    return acc   "
   ]
  },
  {
   "cell_type": "code",
   "execution_count": 71,
   "metadata": {},
   "outputs": [],
   "source": [
    "def Precision(y_true,y_pred):\n",
    "    cm = ConfusionMatrix(y_true,y_pred)\n",
    "#     print(cm[1])\n",
    "    a = np.diagonal(cm)\n",
    "#     print(a.shape)\n",
    "    p =0\n",
    "    for i in range(0,a.shape[0]):\n",
    "        p += a[i]/np.sum(cm[i])\n",
    "#     print(p)\n",
    "    p = p/a.shape[0]\n",
    "#     print(p)\n",
    "    return p   "
   ]
  },
  {
   "cell_type": "code",
   "execution_count": 76,
   "metadata": {},
   "outputs": [],
   "source": [
    "def Recall(y_true,y_pred):\n",
    "    cm = ConfusionMatrix(y_true,y_pred)\n",
    "    print(cm[:,1])\n",
    "    a = np.diagonal(cm)\n",
    "#     print(a.shape)\n",
    "    p =0\n",
    "    for i in range(0,a.shape[0]):\n",
    "        p += a[i]/np.sum(cm[:,i])\n",
    "#     print(p)\n",
    "    p = p/a.shape[0]\n",
    "#     print(p)\n",
    "    return p   "
   ]
  },
  {
   "cell_type": "code",
   "execution_count": 9,
   "metadata": {},
   "outputs": [],
   "source": [
    "def KNN(X_train,X_test,y_train,N):\n",
    "    # A = np.tile(X_test,X_train[0])\n",
    "    dists = -2* np.dot(X_test, X_train.T) + np.sum(X_train**2, axis = 1) + np.sum(X_test ** 2, axis = 1)[:, np.newaxis]\n",
    "    #     inds = np.arape)\n",
    "    print(dists)\n",
    "    A = np.argsort(dists,axis =1)\n",
    "#     k = 5\n",
    "    A_ = A[:,:N]\n",
    "    print(A_.shape)\n",
    "    knn = y_train[A_]\n",
    "    df = pd.DataFrame(knn)\n",
    "    ypred = df.mode(axis=1, dropna=False)\n",
    "    ypred_ = ypred.to_numpy()\n",
    "    ypred_[:,0]\n",
    "#     score = accuracy_score(y_test,ypred_[:,0])\n",
    "#     score\n",
    "# c = np.min(dists[0])\n",
    "#A = np.sort(dists,axis =1)\n",
    "    "
   ]
  },
  {
   "cell_type": "code",
   "execution_count": 70,
   "metadata": {},
   "outputs": [],
   "source": [
    "def ConfusionMatrix(y_true,y_pred):\n",
    "    ytrue = y_true - np.min(y_true)\n",
    "    noC = len(np.unique(ytrue))\n",
    "    A = ytrue * noC + y_pred\n",
    "    hst = np.histogram(A, bins=121) #np.arange(0,noC**2)\n",
    "#     print(hst[0])\n",
    "#     print(len(hst[0]))\n",
    "    return hst[0].reshape(noC, noC)"
   ]
  },
  {
   "cell_type": "code",
   "execution_count": 39,
   "metadata": {},
   "outputs": [],
   "source": [
    "def SklearnSupervisedLearning(X_train,Y_train,X_test,y_test):\n",
    "    #X_train = np.concatenate((np.ones((X_train.shape[0],1)), X_train), axis=1)\n",
    "    #X_test_i = np.concatenate((np.ones((X_test.shape[0],1)), X_test), axis=1)\n",
    "    start= time.time()\n",
    "    clf = svm.SVC(gamma=0.7,C=1)\n",
    "    clf.fit(X_train,Y_train)\n",
    "    ypred = clf.predict(X_test)\n",
    "    end = time.time()\n",
    "    print(end-start)\n",
    "    llf = LogisticRegression(solver='sag',multi_class = 'auto',max_iter=300)\n",
    "    llf.fit(X_train,Y_train)\n",
    "    ypred2 = llf.predict(X_test)\n",
    "    start = time.time()\n",
    "    ds1 = tree.DecisionTreeClassifier(max_features = \"auto\")\n",
    "    ds1 = ds1.fit(X_train,Y_train)\n",
    "    #tree.plot_tree(ds1.fit(X_train,Y_train))\n",
    "#     ds = tree.DecisionTreeRegressor()\n",
    "#     ds.fit(X_train,Y_train)\n",
    "    ypred3 = ds1.predict(X_test)\n",
    "    end = time.time()\n",
    "    print(end-start)\n",
    "    neigh = KNeighborsClassifier(n_neighbors=5, weights='distance')\n",
    "    neigh.fit(X_train, Y_train)\n",
    "    ypred4 = neigh.predict(X_test)\n",
    "    \n",
    "#     score = accuracy_score(y_test, ypred)\n",
    "#     print(score)\n",
    "    \n",
    "#     for i in [ypred4,ypred3,ypred2,ypred]:\n",
    "#         y_i = i\n",
    "#         score = accuracy_score(y_test, y_i)\n",
    "#         print(score)\n",
    "    return ypred,ypred2,ypred3,ypred4"
   ]
  },
  {
   "cell_type": "code",
   "execution_count": 40,
   "metadata": {},
   "outputs": [
    {
     "name": "stdout",
     "output_type": "stream",
     "text": [
      "17.680271863937378\n",
      "0.21346163749694824\n",
      "[ 4  4  2 ...  4  4 11] [ 4  4  2 ...  4  4 11] [ 4  4  2 ...  4  4 11] [ 4  4  2 ...  4  4 11]\n"
     ]
    }
   ],
   "source": [
    "# SklearnSupervisedLearning(X_train,y_train,X_test,y_test)\n",
    "a,b,c,d = SklearnSupervisedLearning(X_train,y_train,X_test,y_test)\n",
    "print(a,b,c,d)\n"
   ]
  },
  {
   "cell_type": "code",
   "execution_count": 79,
   "metadata": {},
   "outputs": [],
   "source": [
    "def SklearnVotingClassifier(X_train,Y_train,X_test,Y_test):\n",
    "    models = []\n",
    "    models.append(('LR',LogisticRegression(solver ='sag',multi_class ='auto',max_iter = 300)))\n",
    "    models.append(('SVC', svm.SVC(gamma =0.7,probability= True,C=1)))\n",
    "    models.append(('DTC', tree.DecisionTreeClassifier()))\n",
    "    models.append(('KNN',KNeighborsClassifier(n_neighbors=5, weights='distance')))\n",
    "#     vot_hard = VotingClassifier(estimators = models, voting ='hard') \n",
    "#     vot_hard.fit(X_train, Y_train) \n",
    "#     y_pred = vot_hard.predict(X_test)\n",
    "#     print(y_pred)\n",
    "\n",
    "#     # using accuracy_score metric to predict accuracy \n",
    "#     score = accuracy_score(Y_test, y_pred) \n",
    "#     print(score) \n",
    "\n",
    "# #     # Voting Classifier with soft voting \n",
    "    vot_soft = VotingClassifier(estimators = models, voting ='soft') \n",
    "    vot_soft.fit(X_train, Y_train) \n",
    "    y_pred1 = vot_soft.predict(X_test) \n",
    "    return y_pred1\n",
    "\n",
    "    # using accuracy_score \n",
    "#     score = accuracy_score(Y_test, y_pred1) \n",
    "#     print(score)"
   ]
  },
  {
   "cell_type": "code",
   "execution_count": 80,
   "metadata": {},
   "outputs": [
    {
     "data": {
      "text/plain": [
       "array([ 4,  4,  2, ...,  4,  4, 11], dtype=int64)"
      ]
     },
     "execution_count": 80,
     "metadata": {},
     "output_type": "execute_result"
    }
   ],
   "source": [
    "y =SklearnVotingClassifier(X_train,y_train,X_test,y_test)\n",
    "y"
   ]
  },
  {
   "cell_type": "code",
   "execution_count": null,
   "metadata": {},
   "outputs": [],
   "source": [
    "def PCA(X_train,N):\n",
    "    sc = StandardScaler()\n",
    "    X_train_std = sc.fit_transform(X_train)\n",
    "#     X_test_std = sc.transform(X_test)\n",
    "    Cov = np.cov(X_train_std.T)\n",
    "    val, vec = np.linalg.eig(Cov)\n",
    "    #print(val,vec)\n",
    "    # eig_val_idx = np.argsort(val)\n",
    "    # eig_val_idx = np.flip(eig_val_idx)\n",
    "    # k = 3\n",
    "    #s = 0\n",
    "    # for i in range(len(val)):\n",
    "    #     s += val[i]/ np.sum(val)\n",
    "    #     if s> 0.8:\n",
    "    #         print(\"true\")\n",
    "    #     else:\n",
    "    #         print(\"false\")    \n",
    "    eigen_pairs = [(np.abs(val[i]), vec[:, i]) for i in range(len(val))]\n",
    "    eigen_pairs.sort(key=lambda k: k[0], reverse=True)\n",
    "    t = []\n",
    "    for i in range(0,N):\n",
    "        t.append(eigen_pairs[i][1][:, np.newaxis])\n",
    "    w = np.hstack(tuple(t))\n",
    "#     w = np.hstack((eigen_pairs[0][1][:, np.newaxis], eigen_pairs[1][1][:, np.newaxis], eigen_pairs[2][1][:, np.newaxis]))\n",
    "    #     , eigen_pairs[1][1][:, np.newaxis], eigen_pairs[2][1][:, np.newaxis]\n",
    "#     print(w.shape)\n",
    "    pca = np.dot(X_train_std,w)\n",
    "#     print(pca)\n",
    "    return pca"
   ]
  },
  {
   "cell_type": "code",
   "execution_count": null,
   "metadata": {},
   "outputs": [],
   "source": [
    "# PCA(X_train,3)"
   ]
  },
  {
   "cell_type": "code",
   "execution_count": null,
   "metadata": {},
   "outputs": [],
   "source": [
    "from sklearn.decomposition import PCA\n",
    "sc = StandardScaler()\n",
    "X_train_std = sc.fit_transform(X_train)\n",
    "pc = PCA(n_components=3)\n",
    "X_train_pca = pc.fit_transform(X_train_std)\n",
    "X_train_pca"
   ]
  },
  {
   "cell_type": "code",
   "execution_count": 132,
   "metadata": {},
   "outputs": [
    {
     "data": {
      "image/png": "[encoded data removed]",
      "text/plain": [
       "<Figure size 432x288 with 1 Axes>"
      ]
     },
     "metadata": {
      "needs_background": "light"
     },
     "output_type": "display_data"
    }
   ],
   "source": [
    "cm = ConfusionMatrix(y_test, d)\n",
    "# plt.plot(cm)\n",
    "# plt.matshow(cm)\n",
    "fig, ax = plt.subplots()\n",
    "im = ax.imshow(cm)\n",
    "for i in range(0,11):\n",
    "    for j in range(0,11):\n",
    "        text = ax.text(j, i, cm[i, j],\n",
    "                       ha=\"center\", va=\"center\", color=\"w\")\n",
    "ax.set_title(\"KNN Confusion Matrix\")\n",
    "fig.tight_layout()\n",
    "plt.show()"
   ]
  },
  {
   "cell_type": "code",
   "execution_count": null,
   "metadata": {},
   "outputs": [],
   "source": [
    "cm = ConfusionMatrix(y_test, c)\n",
    "# plt.plot(cm)\n",
    "# plt.matshow(cm)\n",
    "fig, ax = plt.subplots()\n",
    "im = ax.imshow(cm)\n",
    "for i in range(0,11):\n",
    "    for j in range(0,11):\n",
    "        text = ax.text(j, i, cm[i, j],\n",
    "                       ha=\"center\", va=\"center\", color=\"w\")\n",
    "ax.set_title(\"Decision Tree Confusion Matrix\")\n",
    "fig.tight_layout()\n",
    "plt.show()"
   ]
  },
  {
   "cell_type": "code",
   "execution_count": null,
   "metadata": {},
   "outputs": [],
   "source": [
    "cm = ConfusionMatrix(y_test, b)\n",
    "# plt.plot(cm)\n",
    "# plt.matshow(cm)\n",
    "fig, ax = plt.subplots()\n",
    "im = ax.imshow(cm)\n",
    "for i in range(0,11):\n",
    "    for j in range(0,11):\n",
    "        text = ax.text(j, i, cm[i, j],\n",
    "                       ha=\"center\", va=\"center\", color=\"w\")\n",
    "ax.set_title(\"Logistic Confusion Matrix\")\n",
    "fig.tight_layout()\n",
    "plt.show()"
   ]
  },
  {
   "cell_type": "code",
   "execution_count": null,
   "metadata": {},
   "outputs": [],
   "source": [
    "cm = ConfusionMatrix(y_test, a)\n",
    "# plt.plot(cm)\n",
    "# plt.matshow(cm)\n",
    "fig, ax = plt.subplots()\n",
    "im = ax.imshow(cm)\n",
    "for i in range(0,11):\n",
    "    for j in range(0,11):\n",
    "        text = ax.text(j, i, cm[i, j],\n",
    "                       ha=\"center\", va=\"center\", color=\"w\")\n",
    "ax.set_title(\"SVM Confusion Matrix\")\n",
    "fig.tight_layout()\n",
    "plt.show()"
   ]
  },
  {
   "cell_type": "code",
   "execution_count": 82,
   "metadata": {},
   "outputs": [
    {
     "data": {
      "image/png": "[encoded data removed]",
      "text/plain": [
       "<Figure size 432x288 with 1 Axes>"
      ]
     },
     "metadata": {
      "needs_background": "light"
     },
     "output_type": "display_data"
    }
   ],
   "source": [
    "cm = ConfusionMatrix(y_test, y)\n",
    "# plt.plot(cm)\n",
    "# plt.matshow(cm)\n",
    "fig, ax = plt.subplots()\n",
    "im = ax.imshow(cm)\n",
    "for i in range(0,11):\n",
    "    for j in range(0,11):\n",
    "        text = ax.text(j, i, cm[i, j],\n",
    "                       ha=\"center\", va=\"center\", color=\"w\")\n",
    "ax.set_title(\"Voting Classifier Confusion Matrix\")\n",
    "fig.tight_layout()\n",
    "plt.show()"
   ]
  },
  {
   "cell_type": "code",
   "execution_count": 35,
   "metadata": {},
   "outputs": [],
   "source": [
    "def Kmeans(X_train,N):\n",
    "    m = X_train.shape[0]\n",
    "    n = X_train.shape[1]\n",
    "    iter = 100\n",
    "    Centroids = []\n",
    "#     np.array([]).reshape(n,0)\n",
    "    for i in range(0,N):\n",
    "        r= random.randint(0,m-1)\n",
    "#         print(r)\n",
    "        Centroids.append(X_train[r])\n",
    "    Centroids = np.asarray(Centroids)\n",
    "    clusters = {}\n",
    "    flg = 0\n",
    "    for n_iter in range(100):\n",
    "        dists = -2* np.dot(Centroids, X_train.T) + np.sum(X_train**2, axis = 1) + np.sum(Centroids ** 2, axis = 1)[:, np.newaxis]\n",
    "        C = np.argmin(dists,axis=0)\n",
    "        s = {}\n",
    "    #     x1,x2,x3,x4,x5 = ([] for i in range(N))\n",
    "        for j in range(0,N):\n",
    "            s[j]=[]\n",
    "#         print(len(s))\n",
    "        for i in range(0,m):\n",
    "            s[C[i]].append(i)\n",
    "    #     print(len(s[C[1]]))\n",
    "        for i in range(N):\n",
    "            Centroids[i] = np.mean(X_train[s[i]], axis = 0)\n",
    "        \n",
    "        if s == clusters:\n",
    "#             print(n_iter)\n",
    "            break\n",
    "        \n",
    "        clusters = s\n",
    "\n",
    "    cluster_list = []\n",
    "    for i in range(N):\n",
    "        cluster_list.append(X_train[clusters[i]])\n",
    "#     print(len(cluster_list))\n",
    "#     print(cluster_list[1].shape)\n",
    "    return cluster_list\n",
    "\n"
   ]
  },
  {
   "cell_type": "code",
   "execution_count": 84,
   "metadata": {},
   "outputs": [],
   "source": [
    "clus = Kmeans(X_train,5)"
   ]
  },
  {
   "cell_type": "code",
   "execution_count": 108,
   "metadata": {},
   "outputs": [],
   "source": [
    "def WCSS(Clusters):\n",
    "    wss = 0\n",
    "    for i in range(0,len(Clusters)):\n",
    "        x = np.mean(Clusters[i],axis =0)\n",
    "#         print(x.shape)\n",
    "        dist = -2* np.dot(x, Clusters[i].T) + np.sum(Clusters[i]**2) + np.sum(x ** 2)\n",
    "#         print(dist)\n",
    "        wss += np.sum(dist)\n",
    "#         print(wss)\n",
    "    return wss"
   ]
  },
  {
   "cell_type": "code",
   "execution_count": 109,
   "metadata": {},
   "outputs": [
    {
     "data": {
      "text/plain": [
       "3559847315.522564"
      ]
     },
     "execution_count": 109,
     "metadata": {},
     "output_type": "execute_result"
    }
   ],
   "source": [
    "W = WCSS(clus)\n",
    "W"
   ]
  },
  {
   "cell_type": "code",
   "execution_count": 120,
   "metadata": {},
   "outputs": [
    {
     "data": {
      "text/plain": [
       "GridSearchCV(cv=3, error_score='raise-deprecating',\n",
       "             estimator=DecisionTreeClassifier(class_weight=None,\n",
       "                                              criterion='gini', max_depth=None,\n",
       "                                              max_features=None,\n",
       "                                              max_leaf_nodes=None,\n",
       "                                              min_impurity_decrease=0.0,\n",
       "                                              min_impurity_split=None,\n",
       "                                              min_samples_leaf=1,\n",
       "                                              min_samples_split=2,\n",
       "                                              min_weight_fraction_leaf=0.0,\n",
       "                                              presort=False, random_state=None,\n",
       "                                              splitter='best'),\n",
       "             iid='warn', n_jobs=None, param_grid={'max_depth': range(3, 6)},\n",
       "             pre_dispatch='2*n_jobs', refit=True, return_train_score=False,\n",
       "             scoring=None, verbose=0)"
      ]
     },
     "execution_count": 120,
     "metadata": {},
     "output_type": "execute_result"
    }
   ],
   "source": [
    "model = svm.SVC(gamma=0.7,C=1)\n",
    "param = {'C' : range(1,10)}\n",
    "scoring = {'accuracy': make_scorer(accuracy_score)}\n",
    "gs = GridSearchCV(model,param,cv =3)\n",
    "gs.fit(X_train,y_train)\n",
    "model2 = tree.DecisionTreeClassifier()\n",
    "param2 = {'max_depth' : range(3,6)}\n",
    "scoring = {'accuracy': make_scorer(accuracy_score)}\n",
    "gs2 = GridSearchCV(model2,param2,cv =3)\n",
    "gs2.fit(X_train,y_train)\n",
    "\n"
   ]
  },
  {
   "cell_type": "markdown",
   "metadata": {},
   "source": [
    "scores = [x[1] for x in gs.grid_scores_]\n",
    "len(scores)"
   ]
  },
  {
   "cell_type": "code",
   "execution_count": 131,
   "metadata": {},
   "outputs": [
    {
     "data": {
      "image/png": "[encoded data removed]",
      "text/plain": [
       "<Figure size 432x288 with 1 Axes>"
      ]
     },
     "metadata": {
      "needs_background": "light"
     },
     "output_type": "display_data"
    }
   ],
   "source": [
    "s =gs.cv_results_['mean_test_score']\n",
    "# s1 = gs1.cv_results_['mean_test_score']\n",
    "C = range(1,10)\n",
    "# max_depth =range(3,6)\n",
    "plt.plot(C,s)\n",
    "plt.title(\"Accuracy vs C Penalty for SVM\")\n",
    "plt.xlabel(\"C Penalty\")\n",
    "plt.ylabel(\"Accuracy\")\n",
    "plt.show()"
   ]
  },
  {
   "cell_type": "code",
   "execution_count": 129,
   "metadata": {},
   "outputs": [
    {
     "data": {
      "image/png": "[encoded data removed]",
      "text/plain": [
       "<Figure size 432x288 with 1 Axes>"
      ]
     },
     "metadata": {
      "needs_background": "light"
     },
     "output_type": "display_data"
    }
   ],
   "source": [
    "s1 = gs2.cv_results_['mean_test_score']\n",
    "max_depth =range(3,6)\n",
    "plt.plot(max_depth,s1)\n",
    "plt.title(\"Accuracy vs Max Depth for Decision Tree\")\n",
    "plt.xlabel(\"Max Depth\")\n",
    "plt.ylabel(\"Accuracy\")\n",
    "plt.show()"
   ]
  },
  {
   "cell_type": "code",
   "execution_count": 125,
   "metadata": {},
   "outputs": [
    {
     "data": {
      "text/plain": [
       "GridSearchCV(cv=3, error_score='raise-deprecating',\n",
       "             estimator=KNeighborsClassifier(algorithm='auto', leaf_size=30,\n",
       "                                            metric='minkowski',\n",
       "                                            metric_params=None, n_jobs=None,\n",
       "                                            n_neighbors=5, p=2,\n",
       "                                            weights='distance'),\n",
       "             iid='warn', n_jobs=None, param_grid={'n_neighbors': range(5, 10)},\n",
       "             pre_dispatch='2*n_jobs', refit=True, return_train_score=False,\n",
       "             scoring=None, verbose=0)"
      ]
     },
     "execution_count": 125,
     "metadata": {},
     "output_type": "execute_result"
    }
   ],
   "source": [
    "model3 = KNeighborsClassifier(n_neighbors=5, weights='distance')\n",
    "param3 = {'n_neighbors' : range(5,10)}\n",
    "gs3 = GridSearchCV(model3,param3,cv =3)\n",
    "gs3.fit(X_train,y_train)\n"
   ]
  },
  {
   "cell_type": "code",
   "execution_count": 128,
   "metadata": {},
   "outputs": [
    {
     "data": {
      "image/png": "[encoded data removed]",
      "text/plain": [
       "<Figure size 432x288 with 1 Axes>"
      ]
     },
     "metadata": {
      "needs_background": "light"
     },
     "output_type": "display_data"
    }
   ],
   "source": [
    "s2 = gs3.cv_results_['mean_test_score']\n",
    "n_neighbors = range(5,10)\n",
    "plt.plot(n_neighbors,s2)\n",
    "plt.title(\"Accuracy vs No. of Neighbours for KNN\")\n",
    "plt.xlabel(\"Number of neighbours\")\n",
    "plt.ylabel(\"Accuracy\")\n",
    "plt.show()"
   ]
  }
 ],
 "metadata": {
  "kernelspec": {
   "display_name": "Python 3",
   "language": "python",
   "name": "python3"
  },
  "language_info": {
   "codemirror_mode": {
    "name": "ipython",
    "version": 3
   },
   "file_extension": ".py",
   "mimetype": "text/x-python",
   "name": "python",
   "nbconvert_exporter": "python",
   "pygments_lexer": "ipython3",
   "version": "3.5.2"
  }
 },
 "nbformat": 4,
 "nbformat_minor": 2
}
